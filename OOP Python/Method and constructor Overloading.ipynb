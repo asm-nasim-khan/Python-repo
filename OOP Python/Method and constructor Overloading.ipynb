{
 "cells": [
  {
   "cell_type": "code",
   "execution_count": 1,
   "id": "692362ff",
   "metadata": {},
   "outputs": [
    {
     "name": "stdout",
     "output_type": "stream",
     "text": [
      "Good evening \n"
     ]
    }
   ],
   "source": [
    "print(\"Good evening \")"
   ]
  },
  {
   "cell_type": "markdown",
   "id": "f3ed5d36",
   "metadata": {},
   "source": [
    "Funtion vs Method\n"
   ]
  },
  {
   "cell_type": "code",
   "execution_count": 23,
   "id": "98ef2342",
   "metadata": {},
   "outputs": [
    {
     "name": "stdout",
     "output_type": "stream",
     "text": [
      "a: 1\n",
      "b: None\n",
      "c: Mohakhali\n",
      "====================\n",
      "a: 1\n",
      "b: 10\n",
      "c: Gulshan\n",
      "====================\n"
     ]
    }
   ],
   "source": [
    "def range1(a,b=None,c=\"Mohakhali\"):\n",
    "    print(\"a:\",a)\n",
    "    print(\"b:\",b)\n",
    "    print(\"c:\",c)\n",
    "    \n",
    "range1(1)\n",
    "print(\"=\"*20)\n",
    "range1(1,10,\"Gulshan\")\n",
    "\n",
    "print(\"=\"*20)"
   ]
  },
  {
   "cell_type": "code",
   "execution_count": 31,
   "id": "1d44dcf4",
   "metadata": {},
   "outputs": [
    {
     "ename": "SyntaxError",
     "evalue": "non-default argument follows default argument (Temp/ipykernel_13724/2017095040.py, line 1)",
     "output_type": "error",
     "traceback": [
      "\u001b[1;36m  File \u001b[1;32m\"C:\\Users\\asmna\\AppData\\Local\\Temp/ipykernel_13724/2017095040.py\"\u001b[1;36m, line \u001b[1;32m1\u001b[0m\n\u001b[1;33m    def range1(start,stop=None,step):\u001b[0m\n\u001b[1;37m                                   ^\u001b[0m\n\u001b[1;31mSyntaxError\u001b[0m\u001b[1;31m:\u001b[0m non-default argument follows default argument\n"
     ]
    }
   ],
   "source": [
    "def range1(start,stop=None,step=None):\n",
    "    if start != None and stop==None and step==None:\n",
    "        stop = start\n",
    "        start = None\n",
    "        \n",
    "    print(\"Start:\",start)\n",
    "    print(\"Stop:\",stop)\n",
    "    print(\"Step:\",step)\n",
    "    \n",
    "range1(5)\n"
   ]
  },
  {
   "cell_type": "code",
   "execution_count": 34,
   "id": "147e4c4b",
   "metadata": {},
   "outputs": [
    {
     "name": "stdout",
     "output_type": "stream",
     "text": [
      "Abdul\n",
      "banani\n"
     ]
    }
   ],
   "source": [
    "def info(name,loc=\"Mohakhali\"):\n",
    "    print(name)\n",
    "    print(loc)\n",
    "\n",
    "\n",
    "info(\"Abdul\",\"banani\")"
   ]
  },
  {
   "cell_type": "code",
   "execution_count": 53,
   "id": "89c7545e",
   "metadata": {},
   "outputs": [
    {
     "name": "stdout",
     "output_type": "stream",
     "text": [
      "()\n",
      "Hey I'm  alive\n",
      "('Aslam',)\n",
      "Hey I'm  alive\n"
     ]
    }
   ],
   "source": [
    "class Play:\n",
    "    def __init__(self,*arg):\n",
    "        print(arg)\n",
    "        print(\"Hey I'm  alive\")\n",
    "    def info(self,*args):\n",
    "        if len(args) == 2:\n",
    "            name = args[0]\n",
    "            loc = args[1]\n",
    "        elif len(args) == 1:\n",
    "            name = args[0]\n",
    "            loc = \"Mohakhali\"\n",
    "        else:\n",
    "            name = None\n",
    "            loc = None\n",
    "        print(name)\n",
    "        print(loc)\n",
    "\n",
    "p1 = Play()\n",
    "#p1.info(\"Abdul\",\"banani\")"
   ]
  },
  {
   "cell_type": "code",
   "execution_count": 56,
   "id": "9d843f6d",
   "metadata": {},
   "outputs": [
    {
     "name": "stdout",
     "output_type": "stream",
     "text": [
      "3070\n"
     ]
    }
   ],
   "source": [
    "print(10000-6930)"
   ]
  },
  {
   "cell_type": "code",
   "execution_count": null,
   "id": "6629fea8",
   "metadata": {},
   "outputs": [],
   "source": []
  }
 ],
 "metadata": {
  "kernelspec": {
   "display_name": "Python 3 (ipykernel)",
   "language": "python",
   "name": "python3"
  },
  "language_info": {
   "codemirror_mode": {
    "name": "ipython",
    "version": 3
   },
   "file_extension": ".py",
   "mimetype": "text/x-python",
   "name": "python",
   "nbconvert_exporter": "python",
   "pygments_lexer": "ipython3",
   "version": "3.9.7"
  }
 },
 "nbformat": 4,
 "nbformat_minor": 5
}
