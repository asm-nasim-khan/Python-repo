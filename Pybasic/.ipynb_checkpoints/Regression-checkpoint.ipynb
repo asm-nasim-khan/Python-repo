{
 "cells": [
  {
   "cell_type": "code",
   "execution_count": 53,
   "id": "41489739",
   "metadata": {},
   "outputs": [
    {
     "name": "stdout",
     "output_type": "stream",
     "text": [
      "coefficient of determination: 0.1442028158468417\n",
      "intercept: 5717956.600764161\n",
      "slope: [0.00740048]\n",
      "intercept: [5717956.60076416]\n",
      "slope: [[0.00740048]]\n",
      "predicted response:\n",
      "[6874327.66438413 6887062.97600034 6899704.99719648 6912221.30648036\n",
      " 6924576.0559387 ]\n",
      "predicted response:\n",
      "[6874327.66438413 6887062.97600034 6899704.99719648 6912221.30648036\n",
      " 6924576.0559387 ]\n"
     ]
    },
    {
     "data": {
      "text/plain": [
       "array([5717956.60076416, 5717956.60816464, 5717956.61556512,\n",
       "       5717956.62296559, 5717956.63036607])"
      ]
     },
     "execution_count": 53,
     "metadata": {},
     "output_type": "execute_result"
    }
   ],
   "source": [
    "import pandas as pd\n",
    "import numpy as np\n",
    "from sklearn.linear_model import LinearRegression\n",
    "\n",
    "absdata = pd.read_csv(\"PopuUnemPov.csv\")\n",
    "data=absdata.dropna()\n",
    "#X = data.drop(columns=['Year','DMP total crime','Yearly % Change','Yearly Change','Urban Pop %','Urban Population','Proportion of people living below Poverty rate %','Unemployment Rate %','Annual change %','Amount of Unemployment'])\n",
    "#Y = data.drop(columns=['Year','Total Population','DMP total crime','Yearly % Change','Yearly Change','Urban Pop %','Urban Population','Proportion of people living below Poverty rate %','Unemployment Rate %','Annual change %'])\n",
    "x = data['Total Population'].tolist()\n",
    "y = data['Amount of Unemployment'].tolist()\n",
    "X = np.array(x).reshape((-1, 1))\n",
    "Y = np.array(y)\n",
    "#model = LinearRegression()\n",
    "#model.fit(X, Y)\n",
    "model = LinearRegression().fit(X, Y)\n",
    "r_sq = model.score(X, Y)\n",
    "print(f\"coefficient of determination: {r_sq}\")\n",
    "print(f\"intercept: {model.intercept_}\")\n",
    "\n",
    "\n",
    "print(f\"slope: {model.coef_}\")\n",
    "new_model = LinearRegression().fit(X, Y.reshape((-1, 1)))\n",
    "print(f\"intercept: {new_model.intercept_}\")\n",
    "\n",
    "\n",
    "print(f\"slope: {new_model.coef_}\")\n",
    "\n",
    "y_pred = model.predict(X)\n",
    "print(f\"predicted response:\\n{y_pred}\")\n",
    "y_pred = model.intercept_ + model.coef_ * x\n",
    "print(f\"predicted response:\\n{y_pred}\")\n",
    "x_new = np.arange(len(X)).reshape((-1, 1))\n",
    "x_new\n",
    "\n",
    "\n",
    "y_new = model.predict(x_new)\n",
    "y_new\n",
    "\n"
   ]
  },
  {
   "cell_type": "code",
   "execution_count": 45,
   "id": "7433cf4f",
   "metadata": {},
   "outputs": [
    {
     "data": {
      "text/plain": [
       "0    156256276.0\n",
       "1    157977153.0\n",
       "2    159685424.0\n",
       "3    161376708.0\n",
       "4    163046161.0\n",
       "Name: Total Population, dtype: float64"
      ]
     },
     "execution_count": 45,
     "metadata": {},
     "output_type": "execute_result"
    }
   ],
   "source": []
  }
 ],
 "metadata": {
  "kernelspec": {
   "display_name": "Python 3 (ipykernel)",
   "language": "python",
   "name": "python3"
  },
  "language_info": {
   "codemirror_mode": {
    "name": "ipython",
    "version": 3
   },
   "file_extension": ".py",
   "mimetype": "text/x-python",
   "name": "python",
   "nbconvert_exporter": "python",
   "pygments_lexer": "ipython3",
   "version": "3.9.7"
  }
 },
 "nbformat": 4,
 "nbformat_minor": 5
}
