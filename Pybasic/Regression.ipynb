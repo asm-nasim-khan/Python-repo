{
 "cells": [
  {
   "cell_type": "code",
   "execution_count": 3,
   "id": "41489739",
   "metadata": {},
   "outputs": [
    {
     "name": "stdout",
     "output_type": "stream",
     "text": [
      "     Year  DMP total crime  Total Population  Yearly % Change  Yearly Change  \\\n",
      "0  2015.0         130135.0       156256276.0             1.15      1736169.0   \n",
      "1  2016.0         150268.0       157977153.0             1.10      1720877.0   \n",
      "2  2017.0         174466.0       159685424.0             1.08      1708271.0   \n",
      "3  2018.0         202541.0       161376708.0             1.06      1691284.0   \n",
      "4  2019.0         205883.0       163046161.0             1.03      1669453.0   \n",
      "5     NaN              NaN               NaN              NaN            NaN   \n",
      "\n",
      "   Urban Pop %  Urban Population  \\\n",
      "0         35.4        55305132.0   \n",
      "1         36.2        57168030.0   \n",
      "2         37.0        59046818.0   \n",
      "3         37.8        60944245.0   \n",
      "4         38.6        62865820.0   \n",
      "5          NaN               NaN   \n",
      "\n",
      "   Proportion of people living below Poverty rate %  Unemployment Rate %  \\\n",
      "0                                              31.5                 4.38   \n",
      "1                                              24.3                 4.35   \n",
      "2                                              24.3                 4.37   \n",
      "3                                              21.8                 4.29   \n",
      "4                                              20.5                 4.22   \n",
      "5                                              20.5                 5.30   \n",
      "\n",
      "   Annual change %  Amount of Unemployment  \n",
      "0            -0.01                 6844025  \n",
      "1            -0.03                 6872006  \n",
      "2             0.02                 6978253  \n",
      "3            -0.08                 6923061  \n",
      "4            -0.07                 6880548  \n",
      "5             1.08                       0  \n",
      "coefficient of determination: 0.1442028158468417\n",
      "intercept: 5717956.600764161\n",
      "slope: [0.00740048]\n",
      "intercept: [5717956.60076416]\n",
      "slope: [[0.00740048]]\n",
      "predicted response:\n",
      "[6874327.66438413 6887062.97600034 6899704.99719648 6912221.30648036\n",
      " 6924576.0559387 ]\n",
      "predicted response:\n",
      "[6874327.66438413 6887062.97600034 6899704.99719648 6912221.30648036\n",
      " 6924576.0559387 ]\n"
     ]
    },
    {
     "data": {
      "text/plain": [
       "array([5717956.60076416, 5717956.60816464, 5717956.61556512,\n",
       "       5717956.62296559, 5717956.63036607])"
      ]
     },
     "execution_count": 3,
     "metadata": {},
     "output_type": "execute_result"
    }
   ],
   "source": [
    "import pandas as pd\n",
    "import numpy as np\n",
    "from sklearn.linear_model import LinearRegression\n",
    "\n",
    "absdata = pd.read_csv(\"PopuUnemPov.csv\")\n",
    "print(absdata)\n",
    "data=absdata.dropna()\n",
    "#X = data.drop(columns=['Year','DMP total crime','Yearly % Change','Yearly Change','Urban Pop %','Urban Population','Proportion of people living below Poverty rate %','Unemployment Rate %','Annual change %','Amount of Unemployment'])\n",
    "#Y = data.drop(columns=['Year','Total Population','DMP total crime','Yearly % Change','Yearly Change','Urban Pop %','Urban Population','Proportion of people living below Poverty rate %','Unemployment Rate %','Annual change %'])\n",
    "x = data['Total Population'].tolist()\n",
    "y = data['Amount of Unemployment'].tolist()\n",
    "X = np.array(x).reshape((-1, 1))\n",
    "Y = np.array(y)\n",
    "#model = LinearRegression()\n",
    "#model.fit(X, Y)\n",
    "model = LinearRegression().fit(X, Y)\n",
    "r_sq = model.score(X, Y)\n",
    "print(f\"coefficient of determination: {r_sq}\")\n",
    "print(f\"intercept: {model.intercept_}\")\n",
    "\n",
    "\n",
    "print(f\"slope: {model.coef_}\")\n",
    "new_model = LinearRegression().fit(X, Y.reshape((-1, 1)))\n",
    "print(f\"intercept: {new_model.intercept_}\")\n",
    "\n",
    "\n",
    "print(f\"slope: {new_model.coef_}\")\n",
    "\n",
    "y_pred = model.predict(X)\n",
    "print(f\"predicted response:\\n{y_pred}\")\n",
    "y_pred = model.intercept_ + model.coef_ * x\n",
    "print(f\"predicted response:\\n{y_pred}\")\n",
    "x_new = np.arange(len(X)).reshape((-1, 1))\n",
    "x_new\n",
    "\n",
    "\n",
    "y_new = model.predict(x_new)\n",
    "y_new\n"
   ]
  },
  {
   "cell_type": "code",
   "execution_count": 45,
   "id": "7433cf4f",
   "metadata": {},
   "outputs": [
    {
     "data": {
      "text/plain": [
       "0    156256276.0\n",
       "1    157977153.0\n",
       "2    159685424.0\n",
       "3    161376708.0\n",
       "4    163046161.0\n",
       "Name: Total Population, dtype: float64"
      ]
     },
     "execution_count": 45,
     "metadata": {},
     "output_type": "execute_result"
    }
   ],
   "source": []
  }
 ],
 "metadata": {
  "kernelspec": {
   "display_name": "Python 3 (ipykernel)",
   "language": "python",
   "name": "python3"
  },
  "language_info": {
   "codemirror_mode": {
    "name": "ipython",
    "version": 3
   },
   "file_extension": ".py",
   "mimetype": "text/x-python",
   "name": "python",
   "nbconvert_exporter": "python",
   "pygments_lexer": "ipython3",
   "version": "3.9.7"
  }
 },
 "nbformat": 4,
 "nbformat_minor": 5
}
